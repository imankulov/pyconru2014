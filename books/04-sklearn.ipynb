{
 "metadata": {
  "name": "",
  "signature": "sha256:7c249a65b9402b94d4bb0266525011cef82cfd0216b055505dd9a60020b5c3a6"
 },
 "nbformat": 3,
 "nbformat_minor": 0,
 "worksheets": [
  {
   "cells": [
    {
     "cell_type": "code",
     "collapsed": false,
     "input": [
      "%matplotlib inline\n",
      "import pandas as pd\n",
      "import numpy as np\n",
      "from pylab import *"
     ],
     "language": "python",
     "metadata": {},
     "outputs": [],
     "prompt_number": 23
    },
    {
     "cell_type": "code",
     "collapsed": false,
     "input": [
      "imdb = pd.read_csv('data/movies3.csv', parse_dates=False, index_col=None).dropna()\n",
      "top_genres = imdb.genre.value_counts().keys()[:5]\n",
      "imdb = imdb.ix[imdb.genre.isin(top_genres)]\n",
      "imdb = imdb[imdb.worldwide_gross > imdb.worldwide_gross.quantile(0.05)]\n",
      "imdb = imdb[imdb.worldwide_gross < imdb.worldwide_gross.quantile(0.95)]"
     ],
     "language": "python",
     "metadata": {},
     "outputs": [],
     "prompt_number": 2
    },
    {
     "cell_type": "code",
     "collapsed": false,
     "input": [
      "imdb.head()"
     ],
     "language": "python",
     "metadata": {},
     "outputs": [
      {
       "html": [
        "<div style=\"max-height:1000px;max-width:1500px;overflow:auto;\">\n",
        "<table border=\"1\" class=\"dataframe\">\n",
        "  <thead>\n",
        "    <tr style=\"text-align: right;\">\n",
        "      <th></th>\n",
        "      <th>film</th>\n",
        "      <th>studio</th>\n",
        "      <th>rotten_tomatoes</th>\n",
        "      <th>genre</th>\n",
        "      <th>worldwide_gross</th>\n",
        "      <th>budget</th>\n",
        "      <th>profitability</th>\n",
        "      <th>year</th>\n",
        "    </tr>\n",
        "  </thead>\n",
        "  <tbody>\n",
        "    <tr>\n",
        "      <th>0</th>\n",
        "      <td>                           300</td>\n",
        "      <td> warner bros</td>\n",
        "      <td> 60</td>\n",
        "      <td>    Action</td>\n",
        "      <td> 456.07</td>\n",
        "      <td>  65</td>\n",
        "      <td> 7.02</td>\n",
        "      <td> 2007</td>\n",
        "    </tr>\n",
        "    <tr>\n",
        "      <th>2</th>\n",
        "      <td>              30 Days of Night</td>\n",
        "      <td> independent</td>\n",
        "      <td> 50</td>\n",
        "      <td>    Horror</td>\n",
        "      <td>  75.10</td>\n",
        "      <td>  32</td>\n",
        "      <td> 2.35</td>\n",
        "      <td> 2007</td>\n",
        "    </tr>\n",
        "    <tr>\n",
        "      <th>4</th>\n",
        "      <td> Alien vs. Predator -- Requiem</td>\n",
        "      <td>         fox</td>\n",
        "      <td> 14</td>\n",
        "      <td>    Horror</td>\n",
        "      <td> 128.88</td>\n",
        "      <td>  40</td>\n",
        "      <td> 3.22</td>\n",
        "      <td> 2007</td>\n",
        "    </tr>\n",
        "    <tr>\n",
        "      <th>5</th>\n",
        "      <td>       Alvin and the Chipmunks</td>\n",
        "      <td>         fox</td>\n",
        "      <td> 26</td>\n",
        "      <td> Animation</td>\n",
        "      <td> 360.47</td>\n",
        "      <td>  70</td>\n",
        "      <td> 5.15</td>\n",
        "      <td> 2007</td>\n",
        "    </tr>\n",
        "    <tr>\n",
        "      <th>7</th>\n",
        "      <td>                     Bee Movie</td>\n",
        "      <td>   paramount</td>\n",
        "      <td> 52</td>\n",
        "      <td> Animation</td>\n",
        "      <td> 287.12</td>\n",
        "      <td> 150</td>\n",
        "      <td> 1.91</td>\n",
        "      <td> 2007</td>\n",
        "    </tr>\n",
        "  </tbody>\n",
        "</table>\n",
        "<p>5 rows \u00d7 8 columns</p>\n",
        "</div>"
       ],
       "metadata": {},
       "output_type": "pyout",
       "prompt_number": 3,
       "text": [
        "                            film       studio  rotten_tomatoes      genre  \\\n",
        "0                            300  warner bros               60     Action   \n",
        "2               30 Days of Night  independent               50     Horror   \n",
        "4  Alien vs. Predator -- Requiem          fox               14     Horror   \n",
        "5        Alvin and the Chipmunks          fox               26  Animation   \n",
        "7                      Bee Movie    paramount               52  Animation   \n",
        "\n",
        "   worldwide_gross  budget  profitability  year  \n",
        "0           456.07      65           7.02  2007  \n",
        "2            75.10      32           2.35  2007  \n",
        "4           128.88      40           3.22  2007  \n",
        "5           360.47      70           5.15  2007  \n",
        "7           287.12     150           1.91  2007  \n",
        "\n",
        "[5 rows x 8 columns]"
       ]
      }
     ],
     "prompt_number": 3
    },
    {
     "cell_type": "markdown",
     "metadata": {},
     "source": [
      "### \u0420\u0430\u0437\u0434\u0435\u043b\u044f\u0439 \u0438 \u043f\u0440\u043e\u0432\u0435\u0440\u044f\u0439\n",
      "\n",
      "\u041c\u044b \u0440\u0430\u0437\u0434\u0435\u043b\u044f\u0435\u043c \u043d\u0430\u0448 \u043d\u0430\u0431\u043e\u0440 \u0434\u0430\u043d\u043d\u044b\u0445 \u043d\u0430 \u0434\u0432\u0435 \u0447\u0430\u0441\u0442\u0438. \u041e\u0434\u043d\u0430 \u0438\u0441\u043f\u043e\u043b\u044c\u0437\u0443\u0435\u0442\u0441\u044f \u0434\u043b\u044f \u043e\u0431\u0443\u0447\u0435\u043d\u0438\u044f \u043f\u0440\u0435\u0434\u0441\u043a\u0430\u0437\u0430\u0442\u0435\u043b\u044f, \u0430 \u0434\u0440\u0443\u0433\u0430\u044f -- \u0434\u043b\u044f \u043f\u0440\u043e\u0432\u0435\u0440\u043a\u0438 \u0435\u0433\u043e \u044d\u0444\u0444\u0435\u043a\u0442\u0438\u0432\u043d\u043e\u0441\u0442\u0438"
     ]
    },
    {
     "cell_type": "code",
     "collapsed": false,
     "input": [
      "np.random.seed(1234)"
     ],
     "language": "python",
     "metadata": {},
     "outputs": [],
     "prompt_number": 4
    },
    {
     "cell_type": "code",
     "collapsed": false,
     "input": [
      "indexes = imdb.index.values.copy(); indexes[:10]"
     ],
     "language": "python",
     "metadata": {},
     "outputs": [
      {
       "metadata": {},
       "output_type": "pyout",
       "prompt_number": 5,
       "text": [
        "array([ 0,  2,  4,  5,  7,  8,  9, 11, 13, 14])"
       ]
      }
     ],
     "prompt_number": 5
    },
    {
     "cell_type": "code",
     "collapsed": false,
     "input": [
      "np.random.shuffle(indexes)\n",
      "indexes[:10]"
     ],
     "language": "python",
     "metadata": {},
     "outputs": [
      {
       "metadata": {},
       "output_type": "pyout",
       "prompt_number": 6,
       "text": [
        "array([ 99, 207, 373, 352, 423, 566, 444, 506, 318, 361])"
       ]
      }
     ],
     "prompt_number": 6
    },
    {
     "cell_type": "code",
     "collapsed": false,
     "input": [
      "idx_train = indexes[:indexes.size / 2]; idx_test = indexes[indexes.size / 2: ]\n",
      "print len(idx_train), len(idx_test)"
     ],
     "language": "python",
     "metadata": {},
     "outputs": [
      {
       "output_type": "stream",
       "stream": "stdout",
       "text": [
        "230 231\n"
       ]
      }
     ],
     "prompt_number": 7
    },
    {
     "cell_type": "code",
     "collapsed": false,
     "input": [
      "train_db = imdb.ix[idx_train, :]"
     ],
     "language": "python",
     "metadata": {},
     "outputs": [],
     "prompt_number": 8
    },
    {
     "cell_type": "code",
     "collapsed": false,
     "input": [
      "test_db = imdb.ix[idx_test, :]"
     ],
     "language": "python",
     "metadata": {},
     "outputs": [],
     "prompt_number": 9
    },
    {
     "cell_type": "heading",
     "level": 3,
     "metadata": {},
     "source": [
      "\u0420\u0435\u0448\u0435\u043d\u0438\u0435 \u0432 \u043b\u043e\u0431. \u0421\u0430\u043c\u043e\u0435 \u043f\u0440\u043e\u0441\u0442\u043e\u0435 \u043f\u0440\u0435\u0434\u0441\u043a\u0430\u0437\u0430\u043d\u0438\u0435. \u0421\u0440\u0435\u0434\u043d\u0435\u0435 \u0437\u043d\u0430\u0447\u0435\u043d\u0438\u0435"
     ]
    },
    {
     "cell_type": "code",
     "collapsed": false,
     "input": [
      "from sklearn.metrics import mean_absolute_error"
     ],
     "language": "python",
     "metadata": {},
     "outputs": [],
     "prompt_number": 10
    },
    {
     "cell_type": "code",
     "collapsed": false,
     "input": [
      "mean_gross = train_db.worldwide_gross.mean()\n",
      "predicted_1 = np.repeat(mean_gross, test_db.shape[0])\n",
      "predicted_1[:4]"
     ],
     "language": "python",
     "metadata": {},
     "outputs": [
      {
       "metadata": {},
       "output_type": "pyout",
       "prompt_number": 11,
       "text": [
        "array([ 132.76165217,  132.76165217,  132.76165217,  132.76165217])"
       ]
      }
     ],
     "prompt_number": 11
    },
    {
     "cell_type": "code",
     "collapsed": false,
     "input": [
      "y_test = test_db.worldwide_gross.as_matrix(); y_test[:4]"
     ],
     "language": "python",
     "metadata": {},
     "outputs": [
      {
       "metadata": {},
       "output_type": "pyout",
       "prompt_number": 12,
       "text": [
        "array([  31.55,   93.4 ,  493.21,   79.24])"
       ]
      }
     ],
     "prompt_number": 12
    },
    {
     "cell_type": "code",
     "collapsed": false,
     "input": [
      "error_1 = mean_absolute_error(y_test, predicted_1); error_1"
     ],
     "language": "python",
     "metadata": {},
     "outputs": [
      {
       "metadata": {},
       "output_type": "pyout",
       "prompt_number": 13,
       "text": [
        "93.949439111613046"
       ]
      }
     ],
     "prompt_number": 13
    },
    {
     "cell_type": "heading",
     "level": 3,
     "metadata": {},
     "source": [
      "\u0418\u0441\u043f\u043e\u043b\u044c\u0437\u0443\u0435\u043c \u043b\u0438\u043d\u0435\u0439\u043d\u0443\u044e \u0440\u0435\u0433\u0440\u0435\u0441\u0441\u0438\u044e, \u0434\u043e\u0431\u0430\u0432\u0438\u0432 \u0437\u0430\u0432\u0438\u0441\u0438\u043c\u043e\u0441\u0442\u044c \u043e\u0442 \u0431\u044e\u0434\u0436\u0435\u0442\u0430"
     ]
    },
    {
     "cell_type": "code",
     "collapsed": false,
     "input": [
      "from sklearn import linear_model"
     ],
     "language": "python",
     "metadata": {},
     "outputs": [],
     "prompt_number": 14
    },
    {
     "cell_type": "code",
     "collapsed": false,
     "input": [
      "model = linear_model.LinearRegression()"
     ],
     "language": "python",
     "metadata": {},
     "outputs": [],
     "prompt_number": 15
    },
    {
     "cell_type": "raw",
     "metadata": {},
     "source": [
      "\u0441\u0442\u0440\u043e\u0438\u043c \u0434\u0432\u0443\u043c\u0435\u0440\u043d\u044b\u0439 \u043c\u0430\u0441\u0441\u0438\u0432 (\u043c\u0430\u0442\u0440\u0438\u0446\u0443) \u043d\u0435\u0437\u0430\u0432\u0438\u0441\u0438\u043c\u044b\u0445 \u043f\u0435\u0440\u0435\u043c\u0435\u043d\u043d\u044b\u0445 X (\u0434\u043b\u044f \u043e\u0431\u0443\u0447\u0435\u043d\u0438\u044f)"
     ]
    },
    {
     "cell_type": "code",
     "collapsed": false,
     "input": [
      "x_train = train_db.ix[:, ['budget']].as_matrix(); x_train[:4]"
     ],
     "language": "python",
     "metadata": {},
     "outputs": [
      {
       "metadata": {},
       "output_type": "pyout",
       "prompt_number": 16,
       "text": [
        "array([[  45. ],\n",
        "       [ 145. ],\n",
        "       [  23.6],\n",
        "       [ 105. ]])"
       ]
      }
     ],
     "prompt_number": 16
    },
    {
     "cell_type": "raw",
     "metadata": {},
     "source": [
      "\u0441\u0442\u0440\u043e\u0438\u043c \u043e\u0434\u043d\u043e\u043c\u0435\u0440\u043d\u044b\u0439 \u043c\u0430\u0441\u0441\u0438\u0432 \u0438\u0437 \u0437\u0430\u0432\u0438\u0441\u0438\u043c\u044b\u0445 \u043f\u0435\u0440\u0435\u043c\u0435\u043d\u043d\u044b\u0445 Y (\u0434\u043b\u044f \u043e\u0431\u0443\u0447\u0435\u043d\u0438\u044f)"
     ]
    },
    {
     "cell_type": "code",
     "collapsed": false,
     "input": [
      "y_train = train_db.worldwide_gross.as_matrix(); y_train[:4]"
     ],
     "language": "python",
     "metadata": {},
     "outputs": [
      {
       "metadata": {},
       "output_type": "pyout",
       "prompt_number": 17,
       "text": [
        "array([  46.6 ,  400.91,  102.79,  267.04])"
       ]
      }
     ],
     "prompt_number": 17
    },
    {
     "cell_type": "raw",
     "metadata": {},
     "source": [
      "\u043e\u0431\u0443\u0447\u0430\u0435\u043c \u043c\u043e\u0434\u0435\u043b\u044c"
     ]
    },
    {
     "cell_type": "code",
     "collapsed": false,
     "input": [
      "model.fit(x_train, y_train)"
     ],
     "language": "python",
     "metadata": {},
     "outputs": [
      {
       "metadata": {},
       "output_type": "pyout",
       "prompt_number": 24,
       "text": [
        "LinearRegression(copy_X=True, fit_intercept=True, normalize=False)"
       ]
      }
     ],
     "prompt_number": 24
    },
    {
     "cell_type": "raw",
     "metadata": {},
     "source": [
      "\u0434\u043b\u044f \u0432\u044b\u043f\u043e\u043b\u043d\u0435\u043d\u0438\u044f \u043f\u0440\u0435\u0434\u0441\u043a\u0430\u0437\u0430\u043d\u0438\u044f \u043d\u0443\u0436\u043d\u043e \u0441\u0444\u043e\u0440\u043c\u0438\u0440\u043e\u0432\u0430\u0442\u044c \u043c\u0430\u0441\u0441\u0438\u0432 X \u0442\u0430\u043a\u043e\u0439 \u0436\u0435 \u0440\u0430\u0437\u043c\u0435\u0440\u043d\u043e\u0441\u0442\u0438, \u0447\u0442\u043e \u0438 \u0442\u0435\u0441\u0442\u043e\u0432\u044b\u0439, \u0438 \u043f\u0435\u0440\u0435\u0434\u0430\u0442\u044c \u0435\u0433\u043e \u043d\u0430 \u0432\u0445\u043e\u0434 \u0444\u0443\u043d\u043a\u0446\u0438\u0438 predict()"
     ]
    },
    {
     "cell_type": "code",
     "collapsed": false,
     "input": [
      "x_test = test_db.ix[:, ['budget']].as_matrix()"
     ],
     "language": "python",
     "metadata": {},
     "outputs": [],
     "prompt_number": 25
    },
    {
     "cell_type": "code",
     "collapsed": false,
     "input": [
      "predicted_2 = model.predict(x_test); predicted_2[:4]"
     ],
     "language": "python",
     "metadata": {},
     "outputs": [
      {
       "metadata": {},
       "output_type": "pyout",
       "prompt_number": 26,
       "text": [
        "array([  75.99417004,  179.62722153,  283.26027302,   86.35747519])"
       ]
      }
     ],
     "prompt_number": 26
    },
    {
     "cell_type": "raw",
     "metadata": {},
     "source": [
      "\u0412\u043e\u0442 \u043a\u0430\u043a \u044d\u0442\u043e \u0432\u044b\u0433\u043b\u044f\u0434\u0438\u0442 \u0433\u0440\u0430\u0444\u0438\u0447\u0435\u0441\u043a\u0438 \u0434\u043b\u044f \u0434\u0432\u0443\u043c\u0435\u0440\u043d\u043e\u0433\u043e \u0441\u043b\u0443\u0447\u0430\u044f"
     ]
    },
    {
     "cell_type": "code",
     "collapsed": false,
     "input": [
      "plot(x_test[:, 0], y_test, 'k.', x_test[:, 0], predicted_2, 'r-')"
     ],
     "language": "python",
     "metadata": {},
     "outputs": [
      {
       "metadata": {},
       "output_type": "pyout",
       "prompt_number": 27,
       "text": [
        "[<matplotlib.lines.Line2D at 0x7f8199ed83d0>,\n",
        " <matplotlib.lines.Line2D at 0x7f8199ed8650>]"
       ]
      },
      {
       "metadata": {},
       "output_type": "display_data",
       "png": "[encoded data removed]",
       "text": [
        "<matplotlib.figure.Figure at 0x7f81a42d0550>"
       ]
      }
     ],
     "prompt_number": 27
    },
    {
     "cell_type": "code",
     "collapsed": false,
     "input": [
      "print u'\u0415\u0441\u043b\u0438 \u0432\u044b \u0432\u043b\u043e\u0436\u0438\u0442\u0435 \u0432 \u0444\u0438\u043b\u044c\u043c $0, \u0442\u043e \u0432\u044b \u043f\u043e\u043b\u0443\u0447\u0438\u0442\u0435 %.2f \u043c\u0438\u043b\u043b\u0438\u043e\u043d\u043e\u0432 $ \u043a\u0430\u0441\u0441\u043e\u0432\u044b\u0445 \u0441\u0431\u043e\u0440\u043e\u0432 ;)' % model.intercept_"
     ],
     "language": "python",
     "metadata": {},
     "outputs": [
      {
       "output_type": "stream",
       "stream": "stdout",
       "text": [
        "\u0415\u0441\u043b\u0438 \u0432\u044b \u0432\u043b\u043e\u0436\u0438\u0442\u0435 \u0432 \u0444\u0438\u043b\u044c\u043c $0, \u0442\u043e \u0432\u044b \u043f\u043e\u043b\u0443\u0447\u0438\u0442\u0435 24.18 \u043c\u0438\u043b\u043b\u0438\u043e\u043d\u043e\u0432 $ \u043a\u0430\u0441\u0441\u043e\u0432\u044b\u0445 \u0441\u0431\u043e\u0440\u043e\u0432 ;)\n"
       ]
      }
     ],
     "prompt_number": 28
    },
    {
     "cell_type": "code",
     "collapsed": false,
     "input": [
      "print u'\u0412 \u0441\u0440\u0435\u0434\u043d\u0435\u043c \u043a\u0430\u0436\u0434\u044b\u0439 \u0432\u043b\u043e\u0436\u0435\u043d\u043d\u044b\u0439 \u0432 \u043a\u0430\u0440\u0442\u0438\u043d\u0443 \u0434\u043e\u043b\u043b\u0430\u0440 \u043f\u0440\u0438\u043d\u043e\u0441\u0438\u0442 %.2f \u0434\u043e\u043b\u043b\u0430\u0440\u043e\u0432 \u043a\u0430\u0441\u0441\u043e\u0432\u044b\u0445 \u0441\u0431\u043e\u0440\u043e\u0432' % model.coef_"
     ],
     "language": "python",
     "metadata": {},
     "outputs": [
      {
       "output_type": "stream",
       "stream": "stdout",
       "text": [
        "\u0412 \u0441\u0440\u0435\u0434\u043d\u0435\u043c \u043a\u0430\u0436\u0434\u044b\u0439 \u0432\u043b\u043e\u0436\u0435\u043d\u043d\u044b\u0439 \u0432 \u043a\u0430\u0440\u0442\u0438\u043d\u0443 \u0434\u043e\u043b\u043b\u0430\u0440 \u043f\u0440\u0438\u043d\u043e\u0441\u0438\u0442 2.07 \u0434\u043e\u043b\u043b\u0430\u0440\u043e\u0432 \u043a\u0430\u0441\u0441\u043e\u0432\u044b\u0445 \u0441\u0431\u043e\u0440\u043e\u0432\n"
       ]
      }
     ],
     "prompt_number": 29
    },
    {
     "cell_type": "heading",
     "level": 3,
     "metadata": {},
     "source": [
      "\u041f\u043e\u0441\u0447\u0438\u0442\u0430\u0435\u043c  \u043e\u0448\u0438\u0431\u043a\u0443 \u043d\u0430 \u0442\u0435\u0441\u0442\u043e\u0432\u044b\u0445 \u0434\u0430\u043d\u043d\u044b\u0445"
     ]
    },
    {
     "cell_type": "code",
     "collapsed": false,
     "input": [
      "error_2 = mean_absolute_error(y_test, predicted_2)"
     ],
     "language": "python",
     "metadata": {},
     "outputs": [],
     "prompt_number": 30
    },
    {
     "cell_type": "code",
     "collapsed": false,
     "input": [
      "print error_1, error_2"
     ],
     "language": "python",
     "metadata": {},
     "outputs": [
      {
       "output_type": "stream",
       "stream": "stdout",
       "text": [
        "93.9494391116 60.5970672515\n"
       ]
      }
     ],
     "prompt_number": 31
    },
    {
     "cell_type": "heading",
     "level": 3,
     "metadata": {},
     "source": [
      "\u0414\u043e\u0431\u0430\u0432\u0438\u043c \u0431\u043e\u043b\u044c\u0448\u0435 \u043f\u0435\u0440\u0435\u043c\u0435\u043d\u043d\u044b\u0445"
     ]
    },
    {
     "cell_type": "code",
     "collapsed": false,
     "input": [
      "train_dict = train_db.ix[:, [\"genre\", \"budget\"]].to_dict('records'); train_dict[:2]"
     ],
     "language": "python",
     "metadata": {},
     "outputs": [
      {
       "metadata": {},
       "output_type": "pyout",
       "prompt_number": 32,
       "text": [
        "[{'budget': 45.0, 'genre': 'Action'}, {'budget': 145.0, 'genre': 'Action'}]"
       ]
      }
     ],
     "prompt_number": 32
    },
    {
     "cell_type": "code",
     "collapsed": false,
     "input": [
      "test_dict = test_db.ix[:, [\"genre\", \"budget\"]].to_dict('records'); test_dict[:2]"
     ],
     "language": "python",
     "metadata": {},
     "outputs": [
      {
       "metadata": {},
       "output_type": "pyout",
       "prompt_number": 33,
       "text": [
        "[{'budget': 25.0, 'genre': 'Horror'}, {'budget': 75.0, 'genre': 'Action'}]"
       ]
      }
     ],
     "prompt_number": 33
    },
    {
     "cell_type": "code",
     "collapsed": false,
     "input": [
      "from sklearn.feature_extraction import DictVectorizer"
     ],
     "language": "python",
     "metadata": {},
     "outputs": [],
     "prompt_number": 34
    },
    {
     "cell_type": "code",
     "collapsed": false,
     "input": [
      "vec = DictVectorizer()\n",
      "vec.fit(train_dict)\n",
      "vec.get_feature_names()"
     ],
     "language": "python",
     "metadata": {},
     "outputs": [
      {
       "metadata": {},
       "output_type": "pyout",
       "prompt_number": 35,
       "text": [
        "['budget',\n",
        " 'genre=Action',\n",
        " 'genre=Animation',\n",
        " 'genre=Comedy',\n",
        " 'genre=Drama',\n",
        " 'genre=Horror']"
       ]
      }
     ],
     "prompt_number": 35
    },
    {
     "cell_type": "code",
     "collapsed": false,
     "input": [
      "x_train = vec.transform(train_dict).toarray()\n",
      "x_train = np.delete(x_train, 1, axis=1)\n",
      "x_train[:4]"
     ],
     "language": "python",
     "metadata": {},
     "outputs": [
      {
       "metadata": {},
       "output_type": "pyout",
       "prompt_number": 36,
       "text": [
        "array([[  45. ,    0. ,    0. ,    0. ,    0. ],\n",
        "       [ 145. ,    0. ,    0. ,    0. ,    0. ],\n",
        "       [  23.6,    0. ,    0. ,    0. ,    0. ],\n",
        "       [ 105. ,    1. ,    0. ,    0. ,    0. ]])"
       ]
      }
     ],
     "prompt_number": 36
    },
    {
     "cell_type": "code",
     "collapsed": false,
     "input": [
      "x_test = vec.transform(test_dict).toarray()\n",
      "x_test = np.delete(x_test, 1, axis=1)\n",
      "x_test[:4]"
     ],
     "language": "python",
     "metadata": {},
     "outputs": [
      {
       "metadata": {},
       "output_type": "pyout",
       "prompt_number": 37,
       "text": [
        "array([[  25.,    0.,    0.,    0.,    1.],\n",
        "       [  75.,    0.,    0.,    0.,    0.],\n",
        "       [ 125.,    0.,    0.,    0.,    0.],\n",
        "       [  30.,    0.,    0.,    1.,    0.]])"
       ]
      }
     ],
     "prompt_number": 37
    },
    {
     "cell_type": "code",
     "collapsed": false,
     "input": [
      "model.fit(x_train, y_train)"
     ],
     "language": "python",
     "metadata": {},
     "outputs": [
      {
       "metadata": {},
       "output_type": "pyout",
       "prompt_number": 38,
       "text": [
        "LinearRegression(copy_X=True, fit_intercept=True, normalize=False)"
       ]
      }
     ],
     "prompt_number": 38
    },
    {
     "cell_type": "code",
     "collapsed": false,
     "input": [
      "model.intercept_; model.coef_"
     ],
     "language": "python",
     "metadata": {},
     "outputs": [
      {
       "metadata": {},
       "output_type": "pyout",
       "prompt_number": 39,
       "text": [
        "array([  1.94463524,  41.98965718,  -7.3254305 ,  -8.52317046,  -6.66609509])"
       ]
      }
     ],
     "prompt_number": 39
    },
    {
     "cell_type": "code",
     "collapsed": false,
     "input": [
      "predicted_3 = model.predict(x_test)"
     ],
     "language": "python",
     "metadata": {},
     "outputs": [],
     "prompt_number": 40
    },
    {
     "cell_type": "code",
     "collapsed": false,
     "input": [
      "error_3 = mean_absolute_error(y_test, predicted_3)"
     ],
     "language": "python",
     "metadata": {},
     "outputs": [],
     "prompt_number": 41
    },
    {
     "cell_type": "code",
     "collapsed": false,
     "input": [
      "print error_1, error_2, error_3"
     ],
     "language": "python",
     "metadata": {},
     "outputs": [
      {
       "output_type": "stream",
       "stream": "stdout",
       "text": [
        "93.9494391116 60.5970672515 61.0089071759\n"
       ]
      }
     ],
     "prompt_number": 42
    },
    {
     "cell_type": "code",
     "collapsed": false,
     "input": [],
     "language": "python",
     "metadata": {},
     "outputs": []
    }
   ],
   "metadata": {}
  }
 ]
}