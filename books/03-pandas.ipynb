{
 "metadata": {
  "name": "",
  "signature": "sha256:baa380cf3c739c1fa8f330fce52a044384742981adaa3da88f2720f7b3df565b"
 },
 "nbformat": 3,
 "nbformat_minor": 0,
 "worksheets": [
  {
   "cells": [
    {
     "cell_type": "heading",
     "level": 1,
     "metadata": {},
     "source": [
      "Pandas. \u041e\u043f\u0438\u0441\u0430\u0442\u0435\u043b\u044c\u043d\u044b\u0439 \u0430\u043d\u0430\u043b\u0438\u0437"
     ]
    },
    {
     "cell_type": "code",
     "collapsed": false,
     "input": [
      "%matplotlib inline\n",
      "import pandas as pd"
     ],
     "language": "python",
     "metadata": {},
     "outputs": [],
     "prompt_number": 1
    },
    {
     "cell_type": "heading",
     "level": 3,
     "metadata": {},
     "source": [
      "\u041e\u0431\u0437\u043e\u0440 \u0438\u0441\u0445\u043e\u0434\u043d\u044b\u0445 \u0434\u0430\u043d\u043d\u044b\u0445"
     ]
    },
    {
     "cell_type": "code",
     "collapsed": false,
     "input": [
      "!head data/movies3.csv"
     ],
     "language": "python",
     "metadata": {},
     "outputs": [
      {
       "output_type": "stream",
       "stream": "stdout",
       "text": [
        "film,studio,rotten_tomatoes,genre,worldwide_gross,budget,profitability,year\r\n",
        "300,warner bros,60.00,Action,456.07,65.00,7.02,2007\r\n",
        "3:10 to Yuma,lionsgate,88.00,Western,69.78,48.00,1.45,2007\r\n",
        "30 Days of Night,independent,50.00,Horror,75.10,32.00,2.35,2007\r\n",
        "Across the Universe,independent,54.00,Romance,29.37,45.00,0.65,2007\r\n",
        "Alien vs. Predator -- Requiem,fox,14.00,Horror,128.88,40.00,3.22,2007\r\n",
        "Alvin and the Chipmunks,fox,26.00,Animation,360.47,70.00,5.15,2007\r\n",
        "American Gangster,universal,79.00,Thriller,267.90,100.00,2.68,2007\r\n",
        "Bee Movie,paramount,52.00,Animation,287.12,150.00,1.91,2007\r\n",
        "Beowulf,paramount,71.00,Action,196.26,150.00,1.31,2007\r\n"
       ]
      }
     ],
     "prompt_number": 2
    },
    {
     "cell_type": "code",
     "collapsed": false,
     "input": [
      "imdb = pd.read_csv('data/movies3.csv', parse_dates=False, index_col=None)"
     ],
     "language": "python",
     "metadata": {},
     "outputs": [],
     "prompt_number": 3
    },
    {
     "cell_type": "code",
     "collapsed": false,
     "input": [
      "imdb.head()"
     ],
     "language": "python",
     "metadata": {},
     "outputs": [
      {
       "html": [
        "<div style=\"max-height:1000px;max-width:1500px;overflow:auto;\">\n",
        "<table border=\"1\" class=\"dataframe\">\n",
        "  <thead>\n",
        "    <tr style=\"text-align: right;\">\n",
        "      <th></th>\n",
        "      <th>film</th>\n",
        "      <th>studio</th>\n",
        "      <th>rotten_tomatoes</th>\n",
        "      <th>genre</th>\n",
        "      <th>worldwide_gross</th>\n",
        "      <th>budget</th>\n",
        "      <th>profitability</th>\n",
        "      <th>year</th>\n",
        "    </tr>\n",
        "  </thead>\n",
        "  <tbody>\n",
        "    <tr>\n",
        "      <th>0</th>\n",
        "      <td>                           300</td>\n",
        "      <td> warner bros</td>\n",
        "      <td> 60</td>\n",
        "      <td>  Action</td>\n",
        "      <td> 456.07</td>\n",
        "      <td> 65</td>\n",
        "      <td> 7.02</td>\n",
        "      <td> 2007</td>\n",
        "    </tr>\n",
        "    <tr>\n",
        "      <th>1</th>\n",
        "      <td>                  3:10 to Yuma</td>\n",
        "      <td>   lionsgate</td>\n",
        "      <td> 88</td>\n",
        "      <td> Western</td>\n",
        "      <td>  69.78</td>\n",
        "      <td> 48</td>\n",
        "      <td> 1.45</td>\n",
        "      <td> 2007</td>\n",
        "    </tr>\n",
        "    <tr>\n",
        "      <th>2</th>\n",
        "      <td>              30 Days of Night</td>\n",
        "      <td> independent</td>\n",
        "      <td> 50</td>\n",
        "      <td>  Horror</td>\n",
        "      <td>  75.10</td>\n",
        "      <td> 32</td>\n",
        "      <td> 2.35</td>\n",
        "      <td> 2007</td>\n",
        "    </tr>\n",
        "    <tr>\n",
        "      <th>3</th>\n",
        "      <td>           Across the Universe</td>\n",
        "      <td> independent</td>\n",
        "      <td> 54</td>\n",
        "      <td> Romance</td>\n",
        "      <td>  29.37</td>\n",
        "      <td> 45</td>\n",
        "      <td> 0.65</td>\n",
        "      <td> 2007</td>\n",
        "    </tr>\n",
        "    <tr>\n",
        "      <th>4</th>\n",
        "      <td> Alien vs. Predator -- Requiem</td>\n",
        "      <td>         fox</td>\n",
        "      <td> 14</td>\n",
        "      <td>  Horror</td>\n",
        "      <td> 128.88</td>\n",
        "      <td> 40</td>\n",
        "      <td> 3.22</td>\n",
        "      <td> 2007</td>\n",
        "    </tr>\n",
        "  </tbody>\n",
        "</table>\n",
        "<p>5 rows \u00d7 8 columns</p>\n",
        "</div>"
       ],
       "metadata": {},
       "output_type": "pyout",
       "prompt_number": 4,
       "text": [
        "                            film       studio  rotten_tomatoes    genre  \\\n",
        "0                            300  warner bros               60   Action   \n",
        "1                   3:10 to Yuma    lionsgate               88  Western   \n",
        "2               30 Days of Night  independent               50   Horror   \n",
        "3            Across the Universe  independent               54  Romance   \n",
        "4  Alien vs. Predator -- Requiem          fox               14   Horror   \n",
        "\n",
        "   worldwide_gross  budget  profitability  year  \n",
        "0           456.07      65           7.02  2007  \n",
        "1            69.78      48           1.45  2007  \n",
        "2            75.10      32           2.35  2007  \n",
        "3            29.37      45           0.65  2007  \n",
        "4           128.88      40           3.22  2007  \n",
        "\n",
        "[5 rows x 8 columns]"
       ]
      }
     ],
     "prompt_number": 4
    },
    {
     "cell_type": "code",
     "collapsed": false,
     "input": [
      "imdb.describe()"
     ],
     "language": "python",
     "metadata": {},
     "outputs": [
      {
       "html": [
        "<div style=\"max-height:1000px;max-width:1500px;overflow:auto;\">\n",
        "<table border=\"1\" class=\"dataframe\">\n",
        "  <thead>\n",
        "    <tr style=\"text-align: right;\">\n",
        "      <th></th>\n",
        "      <th>rotten_tomatoes</th>\n",
        "      <th>worldwide_gross</th>\n",
        "      <th>budget</th>\n",
        "      <th>profitability</th>\n",
        "      <th>year</th>\n",
        "    </tr>\n",
        "  </thead>\n",
        "  <tbody>\n",
        "    <tr>\n",
        "      <th>count</th>\n",
        "      <td> 657.000000</td>\n",
        "      <td>  659.000000</td>\n",
        "      <td> 659.000000</td>\n",
        "      <td> 659.000000</td>\n",
        "      <td>  659.000000</td>\n",
        "    </tr>\n",
        "    <tr>\n",
        "      <th>mean</th>\n",
        "      <td>  49.514460</td>\n",
        "      <td>  158.258240</td>\n",
        "      <td>  54.180273</td>\n",
        "      <td>   3.481442</td>\n",
        "      <td> 2009.154780</td>\n",
        "    </tr>\n",
        "    <tr>\n",
        "      <th>std</th>\n",
        "      <td>  26.724318</td>\n",
        "      <td>  220.037796</td>\n",
        "      <td>  51.026238</td>\n",
        "      <td>   5.486114</td>\n",
        "      <td>    1.362889</td>\n",
        "    </tr>\n",
        "    <tr>\n",
        "      <th>min</th>\n",
        "      <td>   0.000000</td>\n",
        "      <td>    0.030000</td>\n",
        "      <td>   0.200000</td>\n",
        "      <td>   0.000000</td>\n",
        "      <td> 2007.000000</td>\n",
        "    </tr>\n",
        "    <tr>\n",
        "      <th>25%</th>\n",
        "      <td>  27.000000</td>\n",
        "      <td>   38.465000</td>\n",
        "      <td>  20.000000</td>\n",
        "      <td>   1.380000</td>\n",
        "      <td> 2008.000000</td>\n",
        "    </tr>\n",
        "    <tr>\n",
        "      <th>50%</th>\n",
        "      <td>  49.000000</td>\n",
        "      <td>   82.070000</td>\n",
        "      <td>  35.000000</td>\n",
        "      <td>   2.380000</td>\n",
        "      <td> 2009.000000</td>\n",
        "    </tr>\n",
        "    <tr>\n",
        "      <th>75%</th>\n",
        "      <td>  72.000000</td>\n",
        "      <td>  184.625000</td>\n",
        "      <td>  70.000000</td>\n",
        "      <td>   3.745000</td>\n",
        "      <td> 2010.000000</td>\n",
        "    </tr>\n",
        "    <tr>\n",
        "      <th>max</th>\n",
        "      <td>  99.000000</td>\n",
        "      <td> 2783.500000</td>\n",
        "      <td> 300.000000</td>\n",
        "      <td>  66.930000</td>\n",
        "      <td> 2011.000000</td>\n",
        "    </tr>\n",
        "  </tbody>\n",
        "</table>\n",
        "<p>8 rows \u00d7 5 columns</p>\n",
        "</div>"
       ],
       "metadata": {},
       "output_type": "pyout",
       "prompt_number": 5,
       "text": [
        "       rotten_tomatoes  worldwide_gross      budget  profitability  \\\n",
        "count       657.000000       659.000000  659.000000     659.000000   \n",
        "mean         49.514460       158.258240   54.180273       3.481442   \n",
        "std          26.724318       220.037796   51.026238       5.486114   \n",
        "min           0.000000         0.030000    0.200000       0.000000   \n",
        "25%          27.000000        38.465000   20.000000       1.380000   \n",
        "50%          49.000000        82.070000   35.000000       2.380000   \n",
        "75%          72.000000       184.625000   70.000000       3.745000   \n",
        "max          99.000000      2783.500000  300.000000      66.930000   \n",
        "\n",
        "              year  \n",
        "count   659.000000  \n",
        "mean   2009.154780  \n",
        "std       1.362889  \n",
        "min    2007.000000  \n",
        "25%    2008.000000  \n",
        "50%    2009.000000  \n",
        "75%    2010.000000  \n",
        "max    2011.000000  \n",
        "\n",
        "[8 rows x 5 columns]"
       ]
      }
     ],
     "prompt_number": 5
    },
    {
     "cell_type": "code",
     "collapsed": false,
     "input": [
      "imdb.genre.value_counts()  # \u0437\u043d\u0430\u0447\u0435\u043d\u0438\u044f \u0434\u043b\u044f \u0434\u0430\u043d\u043d\u044b\u0445, \u043e\u043f\u0438\u0441\u044b\u0432\u0430\u044e\u0449\u0438\u0445 \u043a\u0430\u0442\u0435\u0433\u043e\u0440\u0438\u0438"
     ],
     "language": "python",
     "metadata": {},
     "outputs": [
      {
       "metadata": {},
       "output_type": "pyout",
       "prompt_number": 6,
       "text": [
        "Comedy         168\n",
        "Action         155\n",
        "Drama          100\n",
        "Animation       49\n",
        "Horror          48\n",
        "Thriller        35\n",
        "Adventure       29\n",
        "Romance         20\n",
        "Crime           16\n",
        "Biography       12\n",
        "Fantasy          6\n",
        "Mystery          5\n",
        "Documentary      5\n",
        "Musical          3\n",
        "Western          1\n",
        "Biopic           1\n",
        "Sci-Fi           1\n",
        "dtype: int64"
       ]
      }
     ],
     "prompt_number": 6
    },
    {
     "cell_type": "heading",
     "level": 3,
     "metadata": {},
     "source": [
      "\u0423\u0434\u0430\u043b\u0438\u043c \"\u043b\u0438\u0448\u043d\u0438\u0435 \u0434\u0430\u043d\u043d\u044b\u0435\""
     ]
    },
    {
     "cell_type": "raw",
     "metadata": {},
     "source": [
      " \u0443\u0434\u0430\u043b\u0438\u043c \u0432\u0441\u0435 \u0441\u0442\u0440\u043e\u043a\u0438, \u0432 \u043a\u043e\u0442\u043e\u0440\u044b\u0445 \u0435\u0441\u0442\u044c \u0445\u043e\u0442\u044f \u0431\u044b \u043e\u0434\u043d\u043e \u043d\u0435\u043e\u043f\u0440\u0435\u0434\u0435\u043b\u0435\u043d\u043d\u043e\u0435 \u0437\u043d\u0430\u0447\u0435\u043d\u0438\u0435"
     ]
    },
    {
     "cell_type": "code",
     "collapsed": false,
     "input": [
      "imdb = imdb.dropna()"
     ],
     "language": "python",
     "metadata": {},
     "outputs": [],
     "prompt_number": 7
    },
    {
     "cell_type": "raw",
     "metadata": {},
     "source": [
      "\u041d\u0430\u043c \u0438\u043d\u0442\u0435\u0440\u0435\u0441\u043d\u044b \u0442\u043e\u043b\u044c\u043a\u043e \u0441\u0430\u043c\u044b\u0435 \u043f\u043e\u043f\u0443\u043b\u044f\u0440\u043d\u044b\u0435 \u0436\u0430\u043d\u0440\u044b: comedy, action, drama, animation, horror"
     ]
    },
    {
     "cell_type": "code",
     "collapsed": false,
     "input": [
      "top_genres = imdb.genre.value_counts().keys()[:5]\n",
      "imdb = imdb.ix[imdb.genre.isin(top_genres)]"
     ],
     "language": "python",
     "metadata": {},
     "outputs": [],
     "prompt_number": 8
    },
    {
     "cell_type": "raw",
     "metadata": {},
     "source": [
      "\u0423\u0434\u0430\u043b\u044f\u0435\u043c \"\u0432\u044b\u0431\u0440\u043e\u0441\u044b\", \u043e\u0441\u0442\u0430\u0432\u043b\u044f\u044f \u0442\u043e\u043b\u044c\u043a\u043e 90% \u0434\u0430\u043d\u043d\u044b\u0445 (\u041d\u0418\u041a\u041e\u0413\u0414\u0410 \u0422\u0410\u041a \u041d\u0415 \u0414\u0415\u041b\u0410\u0419\u0422\u0415)"
     ]
    },
    {
     "cell_type": "code",
     "collapsed": false,
     "input": [
      "imdb = imdb[imdb.worldwide_gross > imdb.worldwide_gross.quantile(0.05)]\n",
      "imdb = imdb[imdb.worldwide_gross < imdb.worldwide_gross.quantile(0.95)]"
     ],
     "language": "python",
     "metadata": {},
     "outputs": [],
     "prompt_number": 9
    },
    {
     "cell_type": "heading",
     "level": 3,
     "metadata": {},
     "source": [
      "\u041f\u043e\u043f\u044b\u0442\u0430\u0435\u043c\u0441\u044f \u043f\u043e\u043d\u044f\u0442\u044c, \u043a\u0430\u043a \u0444\u043e\u0440\u043c\u0438\u0440\u0443\u0435\u0442\u0441\u044f \u043a\u0430\u0441\u0441\u043e\u0432\u044b\u0439 \u0441\u0431\u043e\u0440 (Worldwide Gross)"
     ]
    },
    {
     "cell_type": "code",
     "collapsed": false,
     "input": [
      "imdb.worldwide_gross.hist()"
     ],
     "language": "python",
     "metadata": {},
     "outputs": [
      {
       "metadata": {},
       "output_type": "pyout",
       "prompt_number": 10,
       "text": [
        "<matplotlib.axes.AxesSubplot at 0x7efeda055c90>"
       ]
      },
      {
       "metadata": {},
       "output_type": "display_data",
       "png": "[encoded data removed]",
       "text": [
        "<matplotlib.figure.Figure at 0x7efeda055810>"
       ]
      }
     ],
     "prompt_number": 10
    },
    {
     "cell_type": "code",
     "collapsed": false,
     "input": [
      "imdb.boxplot(column='worldwide_gross', by='genre')"
     ],
     "language": "python",
     "metadata": {},
     "outputs": [
      {
       "metadata": {},
       "output_type": "pyout",
       "prompt_number": 11,
       "text": [
        "<matplotlib.axes.AxesSubplot at 0x7efeda01b1d0>"
       ]
      },
      {
       "metadata": {},
       "output_type": "display_data",
       "png": "[encoded data removed]",
       "text": [
        "<matplotlib.figure.Figure at 0x7efeda8f5350>"
       ]
      }
     ],
     "prompt_number": 11
    },
    {
     "cell_type": "code",
     "collapsed": false,
     "input": [
      "imdb.plot('budget', 'worldwide_gross', style=['.'])"
     ],
     "language": "python",
     "metadata": {},
     "outputs": [
      {
       "metadata": {},
       "output_type": "pyout",
       "prompt_number": 17,
       "text": [
        "<matplotlib.axes.AxesSubplot at 0x7efed9722690>"
       ]
      },
      {
       "metadata": {},
       "output_type": "display_data",
       "png": "[encoded data removed]",
       "text": [
        "<matplotlib.figure.Figure at 0x7efed9929290>"
       ]
      }
     ],
     "prompt_number": 17
    },
    {
     "cell_type": "code",
     "collapsed": true,
     "input": [
      "imdb.plot('rotten_tomatoes', 'worldwide_gross', style=['.'], logy=True)"
     ],
     "language": "python",
     "metadata": {},
     "outputs": [
      {
       "metadata": {},
       "output_type": "pyout",
       "prompt_number": 13,
       "text": [
        "<matplotlib.axes.AxesSubplot at 0x7efed9c68fd0>"
       ]
      },
      {
       "metadata": {},
       "output_type": "display_data",
       "png": "[encoded data removed]",
       "text": [
        "<matplotlib.figure.Figure at 0x7efed9c72b10>"
       ]
      }
     ],
     "prompt_number": 13
    },
    {
     "cell_type": "code",
     "collapsed": false,
     "input": [],
     "language": "python",
     "metadata": {},
     "outputs": []
    },
    {
     "cell_type": "code",
     "collapsed": false,
     "input": [],
     "language": "python",
     "metadata": {},
     "outputs": []
    }
   ],
   "metadata": {}
  }
 ]
}